{
 "cells": [
  {
   "cell_type": "markdown",
   "id": "ac0cd59f",
   "metadata": {},
   "source": [
    "# 🎓 Student Feedback Analysis Report\n",
    "\n",
    "## 🔍 Overview\n",
    "This project analyzes student feedback from various college events such as workshops, seminars, and cultural programs. The goal is to evaluate satisfaction levels based on ratings and sentiment in textual feedback and to generate recommendations for future event planning.\n",
    "\n",
    "We use Python, pandas, and NLP techniques to clean data, analyze trends, and visualize insights.\n"
   ]
  },
  {
   "cell_type": "markdown",
   "id": "90ed4d41",
   "metadata": {},
   "source": [
    "## 🧹 2. Data Cleaning and Preparation\n",
    "\n",
    "- Loaded the dataset from Google Forms (CSV format)\n",
    "- Removed unnecessary whitespace and corrected column names\n",
    "- Dropped rows with missing ratings or feedback\n",
    "- Standardized formats for event names and departments\n",
    "- Converted ratings to numerical values for analysis\n",
    "\n",
    "🛠 Libraries used:\n",
    "- pandas for data handling\n",
    "- matplotlib and seaborn for visualization\n"
   ]
  },
  {
   "cell_type": "markdown",
   "id": "961bf0ac",
   "metadata": {},
   "source": [
    "## 📊 3. Ratings Analysis\n",
    "\n",
    "- Calculated average ratings per event and event type\n",
    "- Identified top-rated events and departments\n",
    "- Visualized distribution of satisfaction scores using bar and pie charts\n",
    "\n",
    "🧠 Insight:\n",
    "Events like **Tech Fest** and **Workshops** received higher average ratings compared to Seminars.\n"
   ]
  },
  {
   "cell_type": "markdown",
   "id": "b7d2d022",
   "metadata": {},
   "source": [
    "## 💬 4. Sentiment Analysis on Feedback\n",
    "\n",
    "We used **TextBlob** to classify feedback into:\n",
    "- Positive\n",
    "- Neutral\n",
    "- Negative\n",
    "\n",
    "This helps understand emotional responses beyond numeric scores.\n",
    "\n",
    "🧠 Insight:\n",
    "- Majority feedback was **positive**\n",
    "- Common negative words were: \"long\", \"unorganized\", \"boring\"\n",
    "\n",
    "📈 Pie chart and word cloud are provided below.\n"
   ]
  },
  {
   "cell_type": "markdown",
   "id": "4314534d",
   "metadata": {},
   "source": [
    "## 📌 5. Key Findings\n",
    "\n",
    "- Most liked events: `Event A`, `Event B`\n",
    "- Most mentioned improvement areas: Event timing, communication\n",
    "- Workshops had the most consistent positive sentiment\n",
    "- Cultural events had mixed responses\n",
    "\n",
    "📎 Events hosted by the **Computer Science department** had the highest satisfaction overall.\n"
   ]
  },
  {
   "cell_type": "markdown",
   "id": "65b70f30",
   "metadata": {},
   "source": [
    "## ✅ 6. Recommendations\n",
    "\n",
    "Based on analysis, we suggest:\n",
    "\n",
    "- 📅 Improve event scheduling and punctuality\n",
    "- 📣 Provide clear instructions before events\n",
    "- 🎤 Make seminars more interactive and engaging\n",
    "- 📊 Collect more structured feedback (rating + comment)\n",
    "\n",
    "Encouraging quick post-event surveys helps collect better feedback next time.\n"
   ]
  },
  {
   "cell_type": "markdown",
   "id": "496dceb6",
   "metadata": {},
   "source": [
    "## 🛠 7. Tools & Libraries Used\n",
    "\n",
    "- Python (VS Code + Jupyter)\n",
    "- pandas\n",
    "- seaborn / matplotlib\n",
    "- TextBlob (for sentiment analysis)\n",
    "- wordcloud\n"
   ]
  }
 ],
 "metadata": {
  "language_info": {
   "name": "python"
  }
 },
 "nbformat": 4,
 "nbformat_minor": 5
}
